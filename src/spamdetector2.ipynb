{
 "cells": [
  {
   "cell_type": "code",
   "execution_count": 1,
   "metadata": {
    "collapsed": true
   },
   "outputs": [],
   "source": [
    "#!/usr/bin/env python\n",
    "# -*- coding: utf-8 -*-\n",
    "import sys\n",
    "import time, datetime\n",
    "import json\n",
    "import numpy as np\n",
    "import pandas as pd\n",
    "from collections import Counter\n",
    "from sklearn.tree import DecisionTreeClassifier\n",
    "from sklearn.cross_validation import (cross_val_score, train_test_split)\n",
    "from sklearn import datasets\n",
    "from sklearn.naive_bayes import GaussianNB\n",
    "from sklearn.svm import SVC\n",
    "from sklearn.neighbors import KNeighborsClassifier\n",
    "from sklearn.grid_search import GridSearchCV\n",
    "from sklearn.feature_selection import (RFE,RFECV)\n",
    "from sklearn.ensemble import ( RandomForestClassifier , ExtraTreesClassifier )\n",
    "from sklearn.metrics import ( accuracy_score, precision_score, recall_score, f1_score,roc_auc_score )\n",
    "from sklearn.decomposition import PCA, IncrementalPCA, FastICA\n",
    "import pickle"
   ]
  },
  {
   "cell_type": "code",
   "execution_count": 2,
   "metadata": {
    "collapsed": true
   },
   "outputs": [],
   "source": [
    "estoy_en_los_labos = True\n",
    "prueba_full = True"
   ]
  },
  {
   "cell_type": "markdown",
   "metadata": {},
   "source": [
    "## Dividimos la base en Train y Test (selectividad 0.2)"
   ]
  },
  {
   "cell_type": "code",
   "execution_count": 3,
   "metadata": {
    "collapsed": false
   },
   "outputs": [
    {
     "name": "stdout",
     "output_type": "stream",
     "text": [
      "Cargando ham\n",
      "Cargando spam\n"
     ]
    }
   ],
   "source": [
    "print 'Cargando ham'\n",
    "if not prueba_full:\n",
    "    ham_txt = json.load(open('../ham_dev_mini.json'))\n",
    "elif estoy_en_los_labos:\n",
    "    ham_txt = json.load(open('/media/libre/dataset_dev/ham_dev.json'))\n",
    "else:\n",
    "    ham_txt = json.load(open('../ham_dev.json'))\n",
    "print 'Cargando spam'\n",
    "if not prueba_full:\n",
    "    spam_txt = json.load(open('../spam_dev_mini.json'))\n",
    "elif estoy_en_los_labos:\n",
    "    spam_txt = json.load(open('/media/libre/dataset_dev/spam_dev.json'))\n",
    "else:\n",
    "    spam_txt = json.load(open('../spam_dev.json'))\n",
    "\n",
    "df = pd.DataFrame(ham_txt+spam_txt, columns=['text'])\n",
    "df['class'] = ['ham' for _ in range(len(ham_txt))]+['spam' for _ in range(len(spam_txt))]\n",
    "train, test = train_test_split(df, test_size = 0.2)\n",
    "np.save('train', train)\n",
    "np.save('test', test)"
   ]
  },
  {
   "cell_type": "markdown",
   "metadata": {},
   "source": [
    "## Seleccionamos las palabras frecuentes"
   ]
  },
  {
   "cell_type": "code",
   "execution_count": null,
   "metadata": {
    "collapsed": false
   },
   "outputs": [
    {
     "name": "stdout",
     "output_type": "stream",
     "text": [
      "Base Cargada\n",
      "Divididos Ham/Spam\n"
     ]
    }
   ],
   "source": [
    "train = np.load('train.npy')\n",
    "print \"Base Cargada\"\n",
    "\n",
    "ham = [x[0] for x in train if x[1] == 'ham']\n",
    "spam = [x[0] for x in train if x[1] == 'spam']\n",
    "\n",
    "print \"Divididos Ham/Spam\"\n",
    "\n",
    "ham_counter = Counter()\n",
    "spam_counter = Counter()\n",
    "\n",
    "for s in spam:\n",
    "    for w in s.split(\" \"):\n",
    "        spam_counter[w] += 1\n",
    "\n",
    "for s in ham:\n",
    "    for w in s.split(\" \"):\n",
    "        ham_counter[w] += 1\n",
    "\n",
    "print \"Palabras Contadas\"\n",
    "\n",
    "spam_words = Counter()\n",
    "proportions = Counter()\n",
    "\n",
    "for s in spam_counter:\n",
    "    if s in ham_counter.keys():\n",
    "        proportions[s] = float(spam_counter[s]) / float(ham_counter[s])\n",
    "    else:\n",
    "        spam_words[s] = float(spam_counter[s])\n",
    "\n",
    "print \"Proporciones Calculadas\"\n",
    "\n",
    "proportions_list = proportions.most_common()\n",
    "spam_words_list = spam_words.most_common()"
   ]
  },
  {
   "cell_type": "code",
   "execution_count": 5,
   "metadata": {
    "collapsed": false
   },
   "outputs": [
    {
     "name": "stdout",
     "output_type": "stream",
     "text": [
      "dnames = ['len']\n",
      "\n",
      "dfuncs = [len]\n"
     ]
    }
   ],
   "source": [
    "cant_words = 10\n",
    "st1 = \"dnames = ['len',\"\n",
    "st2 = \"\"\n",
    "st3 = \"dfuncs = [len,\"\n",
    "h=0\n",
    "for t in proportions_list:\n",
    "    h = h+1\n",
    "    st1 += \"'a\" + str(h) + \"',\"\n",
    "    st3 += \"a\" + str(h) + \",\"\n",
    "    #st2 += \"def a\" + str(h) + \"(txt): return txt.count('\" + t[0].replace(\"'\",\"\\\\'\") + \"')\\n\"\n",
    "    st2 += \"def a\" + str(h) + \"(txt): return txt.count('\" + t[0] + \"')\\n\"\n",
    "    if h == cant_words:\n",
    "        break\n",
    "for t in spam_words_list:\n",
    "    h = h+1\n",
    "    st1 += \"'a\" + str(h) + \"',\"\n",
    "    st3 += \"a\" + str(h) + \",\"\n",
    "    #st2 += \"def a\" + str(h) + \"(txt): return txt.count('\" + t[0].replace(\"'\",\"\\\\'\") + \"')\\n\"\n",
    "    st2 += \"def a\" + str(h) + \"(txt): return txt.count('\" + t[0] + \"')\\n\"\n",
    "st1= st1[0:-1] + \"]\"\n",
    "st3= st3[0:-1] + \"]\"\n",
    "print st1\n",
    "print st2\n",
    "print st3"
   ]
  }
 ],
 "metadata": {
  "kernelspec": {
   "display_name": "Python 2",
   "language": "python",
   "name": "python2"
  },
  "language_info": {
   "codemirror_mode": {
    "name": "ipython",
    "version": 2
   },
   "file_extension": ".py",
   "mimetype": "text/x-python",
   "name": "python",
   "nbconvert_exporter": "python",
   "pygments_lexer": "ipython2",
   "version": "2.7.6"
  }
 },
 "nbformat": 4,
 "nbformat_minor": 1
}
